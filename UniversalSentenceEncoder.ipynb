{
  "nbformat": 4,
  "nbformat_minor": 0,
  "metadata": {
    "colab": {
      "name": "Untitled",
      "version": "0.3.2",
      "provenance": []
    },
    "kernelspec": {
      "name": "python3",
      "display_name": "Python 3"
    }
  },
  "cells": [
    {
      "cell_type": "code",
      "metadata": {
        "id": "JYpomsVJJUmU",
        "colab_type": "code",
        "colab": {
          "base_uri": "https://localhost:8080/",
          "height": 51
        },
        "outputId": "51a1698d-af7b-4470-dd58-93b1a4f6899b"
      },
      "source": [
        "%load_ext autoreload\n",
        "%autoreload 2\n",
        "%matplotlib inline\n",
        "import numpy as np\n",
        "import pandas as pd\n",
        "from nltk.stem import WordNetLemmatizer\n",
        "from string import digits\n",
        "from nltk.corpus import stopwords\n",
        "import string\n",
        "import nltk\n",
        "from sklearn.metrics import confusion_matrix\n",
        "from random import randint\n",
        "import numpy as np\n",
        "import torch\n",
        "import sklearn\n",
        "import operator\n",
        "from sklearn.metrics import precision_score\n",
        "from sklearn.metrics import recall_score\n",
        "from sklearn.metrics import accuracy_score"
      ],
      "execution_count": 39,
      "outputs": [
        {
          "output_type": "stream",
          "text": [
            "The autoreload extension is already loaded. To reload it, use:\n",
            "  %reload_ext autoreload\n"
          ],
          "name": "stdout"
        }
      ]
    },
    {
      "cell_type": "code",
      "metadata": {
        "id": "4FiQ-deYJcPI",
        "colab_type": "code",
        "colab": {}
      },
      "source": [
        "import tensorflow as tf\n",
        "import tensorflow_hub as hub\n",
        "import numpy as np\n",
        "import os, sys"
      ],
      "execution_count": 0,
      "outputs": []
    },
    {
      "cell_type": "code",
      "metadata": {
        "id": "crkqdg-NJkTe",
        "colab_type": "code",
        "colab": {}
      },
      "source": [
        "url1 = \"https://raw.githubusercontent.com/varun-spectre/assignment/master/train.csv\"\n",
        "url2 = \"https://raw.githubusercontent.com/varun-spectre/assignment/master/test.csv\""
      ],
      "execution_count": 0,
      "outputs": []
    },
    {
      "cell_type": "code",
      "metadata": {
        "id": "NlP9lUs6Jqxs",
        "colab_type": "code",
        "colab": {}
      },
      "source": [
        "\"\"\"\n",
        "Not removing digits as date-time may also lead to a pattern as per problem statement\n",
        "By analysing the data, Key words like \"Please\" \"Could\" should not be removed as they are also leading to a pattern.\n",
        "So here I am just removing stopwords which has length <=3\n",
        "\"\"\"\n",
        "lemmatizer = WordNetLemmatizer()\n",
        "def preProcess(sentence):\n",
        "    stop = set(stopwords.words('english'))\n",
        "    remove_punctuation = str.maketrans('','',string.punctuation)\n",
        "#     remove_digits = str.maketrans('','',digits)\n",
        "    sentence = sentence.translate(remove_punctuation)\n",
        "#     sentence = sentence.translate(remove_digits).translate(remove_punctuation)\n",
        "    tokens = [i for i in sentence.lower().split() if (i not in stop or len(i) > 3)]\n",
        "    s=\"\"\n",
        "    for token in tokens:\n",
        "        token = lemmatizer.lemmatize(token)\n",
        "        s = s + ' ' + token\n",
        "    return s;"
      ],
      "execution_count": 0,
      "outputs": []
    },
    {
      "cell_type": "code",
      "metadata": {
        "id": "tS8aKxoPJwGt",
        "colab_type": "code",
        "colab": {}
      },
      "source": [
        "df = pd.read_csv(url1)"
      ],
      "execution_count": 0,
      "outputs": []
    },
    {
      "cell_type": "code",
      "metadata": {
        "id": "bx5ZZlimJxsm",
        "colab_type": "code",
        "colab": {}
      },
      "source": [
        "df[\"NewText\"] = \"\"\n",
        "for i in range(df.shape[0]):\n",
        "    df[\"NewText\"][i] = preProcess(df[\"Text\"][i])\n",
        "df['Tag'] = df['Label'].eq('Yes').astype(int)  "
      ],
      "execution_count": 0,
      "outputs": []
    },
    {
      "cell_type": "code",
      "metadata": {
        "id": "R_LDWxzrKn1k",
        "colab_type": "code",
        "colab": {}
      },
      "source": [
        "df1 = pd.read_csv(url2)\n",
        "df1[\"NewText\"] = \"\"\n",
        "for i in range(df1.shape[0]):\n",
        "    df1[\"NewText\"][i] = preProcess(df1[\"Text\"][i])\n",
        "df1['Tag'] = df1['Label'].eq('Yes').astype(int) "
      ],
      "execution_count": 0,
      "outputs": []
    },
    {
      "cell_type": "code",
      "metadata": {
        "id": "JaytUY_IKsoA",
        "colab_type": "code",
        "colab": {}
      },
      "source": [
        "list1  = df[\"NewText\"].tolist()\n",
        "list2  = df1[\"NewText\"].tolist() \n",
        "for i in range(len(list2)):\n",
        "    list1.append(list2[i])"
      ],
      "execution_count": 0,
      "outputs": []
    },
    {
      "cell_type": "code",
      "metadata": {
        "id": "vHpXIcuHNOFp",
        "colab_type": "code",
        "colab": {
          "base_uri": "https://localhost:8080/",
          "height": 34
        },
        "outputId": "a8a85607-dfcb-4a81-d0b8-13b9fa34904e"
      },
      "source": [
        "np.shape(list1)"
      ],
      "execution_count": 27,
      "outputs": [
        {
          "output_type": "execute_result",
          "data": {
            "text/plain": [
              "(4649,)"
            ]
          },
          "metadata": {
            "tags": []
          },
          "execution_count": 27
        }
      ]
    },
    {
      "cell_type": "code",
      "metadata": {
        "id": "mHNpzEglNR-Q",
        "colab_type": "code",
        "colab": {}
      },
      "source": [
        "module_url = \"https://tfhub.dev/google/universal-sentence-encoder/2\""
      ],
      "execution_count": 0,
      "outputs": []
    },
    {
      "cell_type": "code",
      "metadata": {
        "id": "lLc337abNfqR",
        "colab_type": "code",
        "colab": {}
      },
      "source": [
        "embed = hub.Module(module_url)"
      ],
      "execution_count": 0,
      "outputs": []
    },
    {
      "cell_type": "code",
      "metadata": {
        "id": "hVzSKi4FNiey",
        "colab_type": "code",
        "colab": {}
      },
      "source": [
        "tf.logging.set_verbosity(tf.logging.ERROR)\n",
        "with tf.Session() as session:\n",
        "  session.run([tf.global_variables_initializer(), tf.tables_initializer()])\n",
        "  sentences_embeddings = session.run(embed(list1))\n"
      ],
      "execution_count": 0,
      "outputs": []
    },
    {
      "cell_type": "code",
      "metadata": {
        "id": "IvfSqayhN0pj",
        "colab_type": "code",
        "colab": {}
      },
      "source": [
        "X = sentences_embeddings"
      ],
      "execution_count": 0,
      "outputs": []
    },
    {
      "cell_type": "code",
      "metadata": {
        "id": "ggyQuAazOAx6",
        "colab_type": "code",
        "colab": {}
      },
      "source": [
        "X_train = X[:3657]\n",
        "X_test = X[3657:]\n",
        "y_train = df['Tag'].tolist()\n",
        "y_test = df1['Tag'].tolist()\n",
        "y_train = np.asarray(y_train)\n",
        "y_test = np.asarray(y_test)\n",
        "y_train = np.reshape(y_train,(3657,1))\n",
        "y_test = np.reshape(y_test,(992,1))"
      ],
      "execution_count": 0,
      "outputs": []
    },
    {
      "cell_type": "code",
      "metadata": {
        "id": "kH8sq4avOL5l",
        "colab_type": "code",
        "colab": {
          "base_uri": "https://localhost:8080/",
          "height": 85
        },
        "outputId": "0d3d9976-f8d5-4504-e91a-d55537f34386"
      },
      "source": [
        "print(X_train.shape)\n",
        "print(X_test.shape)\n",
        "print(y_train.shape)\n",
        "print(y_test.shape)"
      ],
      "execution_count": 35,
      "outputs": [
        {
          "output_type": "stream",
          "text": [
            "(3657, 512)\n",
            "(992, 512)\n",
            "(3657, 1)\n",
            "(992, 1)\n"
          ],
          "name": "stdout"
        }
      ]
    },
    {
      "cell_type": "code",
      "metadata": {
        "id": "KYP_cjMIOOzf",
        "colab_type": "code",
        "colab": {}
      },
      "source": [
        "from xgboost import XGBClassifier"
      ],
      "execution_count": 0,
      "outputs": []
    },
    {
      "cell_type": "code",
      "metadata": {
        "id": "ow-K2sjZOTrx",
        "colab_type": "code",
        "colab": {
          "base_uri": "https://localhost:8080/",
          "height": 224
        },
        "outputId": "c00b47eb-d577-42fb-be81-7c46621e2b4d"
      },
      "source": [
        "model = XGBClassifier()\n",
        "model.fit(X_train, y_train)"
      ],
      "execution_count": 37,
      "outputs": [
        {
          "output_type": "stream",
          "text": [
            "/usr/local/lib/python3.6/dist-packages/sklearn/preprocessing/label.py:219: DataConversionWarning: A column-vector y was passed when a 1d array was expected. Please change the shape of y to (n_samples, ), for example using ravel().\n",
            "  y = column_or_1d(y, warn=True)\n",
            "/usr/local/lib/python3.6/dist-packages/sklearn/preprocessing/label.py:252: DataConversionWarning: A column-vector y was passed when a 1d array was expected. Please change the shape of y to (n_samples, ), for example using ravel().\n",
            "  y = column_or_1d(y, warn=True)\n"
          ],
          "name": "stderr"
        },
        {
          "output_type": "execute_result",
          "data": {
            "text/plain": [
              "XGBClassifier(base_score=0.5, booster='gbtree', colsample_bylevel=1,\n",
              "              colsample_bynode=1, colsample_bytree=1, gamma=0,\n",
              "              learning_rate=0.1, max_delta_step=0, max_depth=3,\n",
              "              min_child_weight=1, missing=None, n_estimators=100, n_jobs=1,\n",
              "              nthread=None, objective='binary:logistic', random_state=0,\n",
              "              reg_alpha=0, reg_lambda=1, scale_pos_weight=1, seed=None,\n",
              "              silent=None, subsample=1, verbosity=1)"
            ]
          },
          "metadata": {
            "tags": []
          },
          "execution_count": 37
        }
      ]
    },
    {
      "cell_type": "code",
      "metadata": {
        "id": "vcohyzBaOW1t",
        "colab_type": "code",
        "colab": {
          "base_uri": "https://localhost:8080/",
          "height": 34
        },
        "outputId": "a0bc3065-3751-4940-b3d9-9da128429131"
      },
      "source": [
        "y_pred = model.predict(X_test)\n",
        "accuracy_score(y_test,y_pred)"
      ],
      "execution_count": 40,
      "outputs": [
        {
          "output_type": "execute_result",
          "data": {
            "text/plain": [
              "0.751008064516129"
            ]
          },
          "metadata": {
            "tags": []
          },
          "execution_count": 40
        }
      ]
    },
    {
      "cell_type": "code",
      "metadata": {
        "id": "h0Zi7tjQObrK",
        "colab_type": "code",
        "colab": {}
      },
      "source": [
        "X_train = X[:3657]\n",
        "X_test = X[3657:]\n",
        "y_train = df['Tag'].tolist()\n",
        "y_test = df1['Tag'].tolist()\n",
        "y_train = np.asarray(y_train)\n",
        "y_test = np.asarray(y_test)\n",
        "y_train = np.reshape(y_train,(3657,1))\n",
        "y_test = np.reshape(y_test,(992,1))"
      ],
      "execution_count": 0,
      "outputs": []
    },
    {
      "cell_type": "code",
      "metadata": {
        "id": "a0AmHAw2O0gg",
        "colab_type": "code",
        "colab": {
          "base_uri": "https://localhost:8080/",
          "height": 173
        },
        "outputId": "20324592-09d2-40cb-a3c6-ab902836268b"
      },
      "source": [
        "from sklearn.svm import SVC\n",
        "clf = SVC(C=2300, kernel='rbf')\n",
        "clf.fit(X_train, y_train)"
      ],
      "execution_count": 42,
      "outputs": [
        {
          "output_type": "stream",
          "text": [
            "/usr/local/lib/python3.6/dist-packages/sklearn/utils/validation.py:724: DataConversionWarning: A column-vector y was passed when a 1d array was expected. Please change the shape of y to (n_samples, ), for example using ravel().\n",
            "  y = column_or_1d(y, warn=True)\n",
            "/usr/local/lib/python3.6/dist-packages/sklearn/svm/base.py:193: FutureWarning: The default value of gamma will change from 'auto' to 'scale' in version 0.22 to account better for unscaled features. Set gamma explicitly to 'auto' or 'scale' to avoid this warning.\n",
            "  \"avoid this warning.\", FutureWarning)\n"
          ],
          "name": "stderr"
        },
        {
          "output_type": "execute_result",
          "data": {
            "text/plain": [
              "SVC(C=2300, cache_size=200, class_weight=None, coef0=0.0,\n",
              "    decision_function_shape='ovr', degree=3, gamma='auto_deprecated',\n",
              "    kernel='rbf', max_iter=-1, probability=False, random_state=None,\n",
              "    shrinking=True, tol=0.001, verbose=False)"
            ]
          },
          "metadata": {
            "tags": []
          },
          "execution_count": 42
        }
      ]
    },
    {
      "cell_type": "code",
      "metadata": {
        "id": "dUYVvHvrO2x5",
        "colab_type": "code",
        "colab": {}
      },
      "source": [
        "y_pred = clf.predict(X_test)"
      ],
      "execution_count": 0,
      "outputs": []
    },
    {
      "cell_type": "code",
      "metadata": {
        "id": "ZL-7NVFCO6Go",
        "colab_type": "code",
        "colab": {
          "base_uri": "https://localhost:8080/",
          "height": 34
        },
        "outputId": "b607dc33-6847-4336-833a-ef5c6a2b18f1"
      },
      "source": [
        "accuracy_score(y_test,y_pred)"
      ],
      "execution_count": 44,
      "outputs": [
        {
          "output_type": "execute_result",
          "data": {
            "text/plain": [
              "0.7429435483870968"
            ]
          },
          "metadata": {
            "tags": []
          },
          "execution_count": 44
        }
      ]
    },
    {
      "cell_type": "code",
      "metadata": {
        "id": "EwUBgv9SO8Bq",
        "colab_type": "code",
        "colab": {}
      },
      "source": [
        ""
      ],
      "execution_count": 0,
      "outputs": []
    }
  ]
}